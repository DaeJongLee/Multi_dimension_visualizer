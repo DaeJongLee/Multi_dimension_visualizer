{
 "cells": [
  {
   "cell_type": "code",
   "execution_count": 7,
   "metadata": {},
   "outputs": [
    {
     "name": "stdout",
     "output_type": "stream",
     "text": [
      "GIF has been saved as '/Users/dj/project/pandas_numpy_matplolib/3d_array_visualization.gif'.\n"
     ]
    }
   ],
   "source": [
    "import os\n",
    "import imageio.v2 as imageio  # Use imageio.v2 to avoid deprecation warning\n",
    "\n",
    "# Define the directory containing the PNG files\n",
    "image_dir = '/Users/dj/project/pandas_numpy_matplolib/combinations'\n",
    "gif_path = '/Users/dj/project/pandas_numpy_matplolib/3d_array_visualization.gif'\n",
    "\n",
    "# Get a sorted list of all PNG files in the directory\n",
    "image_files = sorted([os.path.join(image_dir, file) for file in os.listdir(image_dir) if file.endswith('.png')])\n",
    "\n",
    "# Calculate duration per frame\n",
    "total_duration = 7  # Total duration of the GIF in seconds\n",
    "num_frames = len(image_files)\n",
    "main_frame_duration = (total_duration - 2) / (num_frames - 1)  # Duration for each frame except the last one\n",
    "\n",
    "# Create a GIF\n",
    "with imageio.get_writer(gif_path, mode='I') as writer:\n",
    "    for i, image_file in enumerate(image_files):\n",
    "        image = imageio.imread(image_file)\n",
    "        if i == num_frames - 1:  # Last frame\n",
    "            writer.append_data(image, {'duration': 2})\n",
    "        else:\n",
    "            writer.append_data(image, {'duration': main_frame_duration})\n",
    "\n",
    "print(f\"GIF has been saved as '{gif_path}'.\")\n"
   ]
  }
 ],
 "metadata": {
  "kernelspec": {
   "display_name": ".venv",
   "language": "python",
   "name": "python3"
  },
  "language_info": {
   "codemirror_mode": {
    "name": "ipython",
    "version": 3
   },
   "file_extension": ".py",
   "mimetype": "text/x-python",
   "name": "python",
   "nbconvert_exporter": "python",
   "pygments_lexer": "ipython3",
   "version": "3.12.4"
  }
 },
 "nbformat": 4,
 "nbformat_minor": 2
}
